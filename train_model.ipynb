{
 "cells": [
  {
   "cell_type": "code",
   "execution_count": 1,
   "metadata": {},
   "outputs": [],
   "source": [
    "dia_diem_muon_den = [\"Biển\", \"Núi\", \"Thành phố\"]\n",
    "muc_thu_nhap = [\"Dưới 5 triệu\", \"5-15 triệu\", \"15-30 triệu\", \"Trên 30 triệu\"]\n",
    "thoi_gian = [\"Xuân\", \"Hè\", \"Thu\", \"Đông\"]\n",
    "muc_dich_du_lich = [\"Khám phá thiên nhiên\", \"Tìm hiểu lịch sử\", \"Tìm hiểu văn hóa\", \"Tâm linh\", \"Trải nghiệm\", \"Nghỉ mát\"]\n",
    "so_luong_nguoi = ['Một mình', 'Cặp đôi', 'Nhóm 3-5', 'Nhóm 6-10', 'Hơn 10 người']\n",
    "dia_diem = [\"Bãi biển Mỹ Khê\", \"Cầu Rồng\", \"Ngũ Hành Sơn\", \"Bà Nà Hills\", \"Chùa Linh Ứng\", \"Cầu Thuận Phước\", \"Bãi biển Non Nước\", \"Sông Hàn\", \"Làng Đá Mỹ Đức\", \"Công viên Châu Á\", \"Bảo tàng Chăm\", \"Bãi biển An Bàng\", \"Công viên Biển Đông\", \"Vinpearl Land Nam Hội An\", \"Quảng trường Trung tâm\", \"Bảo tàng Đà Nẵng\", \"Công viên 29/3\", \"Khu du lịch sinh thái Cồn Ngọc\", \"Bãi biển Đá Ông Địa\", \"Hội An\"]"
   ]
  },
  {
   "cell_type": "code",
   "execution_count": 2,
   "metadata": {},
   "outputs": [
    {
     "name": "stderr",
     "output_type": "stream",
     "text": [
      "d:\\Apps\\Miniconda3\\Lib\\site-packages\\sklearn\\preprocessing\\_encoders.py:975: FutureWarning: `sparse` was renamed to `sparse_output` in version 1.2 and will be removed in 1.4. `sparse_output` is ignored unless you leave `sparse` to its default value.\n",
      "  warnings.warn(\n"
     ]
    },
    {
     "name": "stdout",
     "output_type": "stream",
     "text": [
      "Accuracy: 0.799\n"
     ]
    },
    {
     "data": {
      "image/png": "[encoded data removed]",
      "text/plain": [
       "<Figure size 800x600 with 1 Axes>"
      ]
     },
     "metadata": {},
     "output_type": "display_data"
    },
    {
     "data": {
      "text/plain": [
       "['encoder.joblib']"
      ]
     },
     "execution_count": 2,
     "metadata": {},
     "output_type": "execute_result"
    }
   ],
   "source": [
    "import pandas as pd\n",
    "from sklearn.preprocessing import OneHotEncoder\n",
    "from sklearn.model_selection import train_test_split\n",
    "from sklearn.ensemble import RandomForestClassifier\n",
    "from sklearn.metrics import accuracy_score, confusion_matrix\n",
    "import joblib\n",
    "import seaborn as sns\n",
    "import matplotlib.pyplot as plt\n",
    "\n",
    "# Đọc dữ liệu từ file Excel\n",
    "data = pd.read_excel('data.xlsx')\n",
    "\n",
    "# Chia dữ liệu thành dữ liệu huấn luyện và dữ liệu kiểm thử\n",
    "train_data, test_data = train_test_split(data, test_size=0.2, random_state=42)\n",
    "\n",
    "# Xác định các features và target\n",
    "X_train = train_data[['Địa hình', 'Mức thu nhập', 'Số lượng người', 'Thời gian', 'Mục đích du lịch', 'Địa điểm']]\n",
    "y_train = train_data['Đánh giá']\n",
    "X_test = test_data[['Địa hình', 'Mức thu nhập', 'Số lượng người', 'Thời gian', 'Mục đích du lịch', 'Địa điểm']]\n",
    "y_test = test_data['Đánh giá']\n",
    "\n",
    "# Tạo và huấn luyện mô hình RandomForestClassifier\n",
    "model = RandomForestClassifier(random_state=42)\n",
    "encoder = OneHotEncoder(drop='first', sparse=False)\n",
    "\n",
    "# Mã hóa dữ liệu huấn luyện\n",
    "X_train_encoded = encoder.fit_transform(X_train)\n",
    "\n",
    "# Huấn luyện mô hình\n",
    "model.fit(X_train_encoded, y_train)\n",
    "\n",
    "# Dự đoán trên dữ liệu kiểm thử\n",
    "X_test_encoded = encoder.transform(X_test)\n",
    "predictions = model.predict(X_test_encoded)\n",
    "\n",
    "# Đánh giá mô hình\n",
    "accuracy = accuracy_score(y_test, predictions)\n",
    "print(f'Accuracy: {accuracy}')\n",
    "\n",
    "# Tính ma trận lỗi\n",
    "cm = confusion_matrix(y_test, predictions)\n",
    "\n",
    "# Tạo DataFrame từ ma trận lỗi\n",
    "cm_df = pd.DataFrame(cm)\n",
    "\n",
    "# Vẽ heatmap cho ma trận lỗi\n",
    "plt.figure(figsize=(8, 6))\n",
    "sns.heatmap(cm_df, annot=True, fmt='g', cmap='Blues', cbar=False)\n",
    "plt.title('Confusion Matrix')\n",
    "plt.xlabel('Predicted')\n",
    "plt.ylabel('Actual')\n",
    "plt.show()\n",
    "\n",
    "# Lưu mô hình và encoder để sử dụng sau này\n",
    "joblib.dump(model, 'Models/model.joblib')\n",
    "joblib.dump(encoder, 'Models/encoder.joblib')\n"
   ]
  },
  {
   "cell_type": "code",
   "execution_count": 3,
   "metadata": {},
   "outputs": [],
   "source": [
    "# Load mô hình đã được huấn luyện\n",
    "loaded_model = joblib.load('Models/model.joblib')\n",
    "loaded_encoder = joblib.load('Models/encoder.joblib')"
   ]
  },
  {
   "cell_type": "code",
   "execution_count": 4,
   "metadata": {},
   "outputs": [
    {
     "data": {
      "text/plain": [
       "<bound method IndexOpsMixin.tolist of 0                    Bãi biển Mỹ Khê\n",
       "6                  Bãi biển Non Nước\n",
       "17    Khu du lịch sinh thái Cồn Ngọc\n",
       "Name: Địa điểm, dtype: object>"
      ]
     },
     "execution_count": 4,
     "metadata": {},
     "output_type": "execute_result"
    }
   ],
   "source": [
    "results = pd.DataFrame(columns=[\"Địa hình\",\"Mức thu nhập\", \"Số lượng người\", \"Thời gian\", \"Mục đích du lịch\",\"Địa điểm\", \"Đánh giá\"])\n",
    "\n",
    "# Dự đoán trên dữ liệu mới\n",
    "for i in dia_diem:\n",
    "    new_data = pd.DataFrame({\n",
    "        'Địa hình': ['Núi'],\n",
    "        'Mức thu nhập': ['Dưới 5 triệu'],\n",
    "        'Số lượng người': ['Một mình'],\n",
    "        'Thời gian': ['Hè'],\n",
    "        'Mục đích du lịch': ['Trải nghiệm'],\n",
    "        'Địa điểm': [i],\n",
    "    })\n",
    "\n",
    "    # Mã hóa dữ liệu mới\n",
    "    new_data_encoded = loaded_encoder.transform(new_data)\n",
    "\n",
    "    # Dự đoán trên dữ liệu mới\n",
    "    new_predictions = loaded_model.predict(new_data_encoded)\n",
    "\n",
    "    # In dự đoán\n",
    "    new_data['Đánh giá'] = new_predictions[0]\n",
    "    results = pd.concat([results, new_data], ignore_index=True)\n",
    "results = results.sort_values(by='Đánh giá', ascending=False)\n",
    "results['Địa điểm'].head(3).to_list\n",
    "\n"
   ]
  }
 ],
 "metadata": {
  "kernelspec": {
   "display_name": "base",
   "language": "python",
   "name": "python3"
  },
  "language_info": {
   "codemirror_mode": {
    "name": "ipython",
    "version": 3
   },
   "file_extension": ".py",
   "mimetype": "text/x-python",
   "name": "python",
   "nbconvert_exporter": "python",
   "pygments_lexer": "ipython3",
   "version": "3.11.4"
  }
 },
 "nbformat": 4,
 "nbformat_minor": 2
}
